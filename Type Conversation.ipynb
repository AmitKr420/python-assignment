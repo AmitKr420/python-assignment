{
 "cells": [
  {
   "cell_type": "code",
   "execution_count": 6,
   "id": "1e1b5d7f-f553-4ced-8637-3933fe02c759",
   "metadata": {},
   "outputs": [
    {
     "name": "stdout",
     "output_type": "stream",
     "text": [
      "6.0\n"
     ]
    }
   ],
   "source": [
    "#Convert a integer to a floatig-point number.\n",
    "integer_value = 6\n",
    "float_value = float(integer_value)\n",
    "print(float_value) "
   ]
  },
  {
   "cell_type": "code",
   "execution_count": 3,
   "id": "f78c2385-ec42-4cab-9946-c75ff36ed5db",
   "metadata": {},
   "outputs": [
    {
     "name": "stdout",
     "output_type": "stream",
     "text": [
      "6\n"
     ]
    }
   ],
   "source": [
    "# Convert a float to an integer\n",
    "float_value = 6.7\n",
    "int_value = int(float_value)\n",
    "print(int_value)"
   ]
  },
  {
   "cell_type": "code",
   "execution_count": 7,
   "id": "bc8867af-00ce-4ad5-8949-1e0ab84af685",
   "metadata": {},
   "outputs": [
    {
     "name": "stdout",
     "output_type": "stream",
     "text": [
      "6\n"
     ]
    }
   ],
   "source": [
    "#Covert a integer to a string.\n",
    "num = 6\n",
    "num_str = str(num)\n",
    "print(num_str)"
   ]
  },
  {
   "cell_type": "code",
   "execution_count": 9,
   "id": "6594f9ee-3de4-446c-ac0b-420600972da7",
   "metadata": {},
   "outputs": [
    {
     "name": "stdout",
     "output_type": "stream",
     "text": [
      "(1, 2, 3, 4, 5, 6)\n"
     ]
    }
   ],
   "source": [
    "## Converting a list to a tuple\n",
    "my_list =[ 1, 2, 3, 4, 5, 6]\n",
    "my_tuple = tuple(my_list)\n",
    "print(my_tuple)"
   ]
  },
  {
   "cell_type": "code",
   "execution_count": 10,
   "id": "00f0c35c-58ed-47a4-9839-a27895a53806",
   "metadata": {},
   "outputs": [
    {
     "name": "stdout",
     "output_type": "stream",
     "text": [
      "[1, 2, 3, 4, 5, 6]\n"
     ]
    }
   ],
   "source": [
    "#Covert a tuple to a liSt.\n",
    "my_tuple = (1, 2, 3, 4, 5, 6,)\n",
    "my_list = list(my_tuple)\n",
    "print(my_list)"
   ]
  },
  {
   "cell_type": "code",
   "execution_count": 11,
   "id": "12aac47e-bded-4a06-a81e-6ad1f553ffc6",
   "metadata": {},
   "outputs": [
    {
     "name": "stdout",
     "output_type": "stream",
     "text": [
      "0b111000\n"
     ]
    }
   ],
   "source": [
    "#Covert a decimal number to binary.\n",
    "decimal_number = 56\n",
    "binary_number = bin(decimal_number)\n",
    "print(binary_number)"
   ]
  },
  {
   "cell_type": "code",
   "execution_count": 12,
   "id": "20681a70-aa87-4902-9ffc-5bfd27506fd6",
   "metadata": {},
   "outputs": [
    {
     "name": "stdout",
     "output_type": "stream",
     "text": [
      "True\n"
     ]
    }
   ],
   "source": [
    "#Covert a non-zero umber to boolean.\n",
    "number = 56\n",
    "boolean_value = bool(number)\n",
    "print(boolean_value)"
   ]
  },
  {
   "cell_type": "code",
   "execution_count": null,
   "id": "36fa1ed7-2cec-414c-b3eb-f1c95081a112",
   "metadata": {},
   "outputs": [],
   "source": []
  }
 ],
 "metadata": {
  "kernelspec": {
   "display_name": "Python 3 (ipykernel)",
   "language": "python",
   "name": "python3"
  },
  "language_info": {
   "codemirror_mode": {
    "name": "ipython",
    "version": 3
   },
   "file_extension": ".py",
   "mimetype": "text/x-python",
   "name": "python",
   "nbconvert_exporter": "python",
   "pygments_lexer": "ipython3",
   "version": "3.10.8"
  }
 },
 "nbformat": 4,
 "nbformat_minor": 5
}
